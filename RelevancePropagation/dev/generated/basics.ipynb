{
 "cells": [
  {
   "cell_type": "markdown",
   "source": [
    "# Basic usage of LRP"
   ],
   "metadata": {}
  },
  {
   "cell_type": "markdown",
   "source": [
    "We start out by loading a small convolutional neural network:"
   ],
   "metadata": {}
  },
  {
   "outputs": [],
   "cell_type": "code",
   "source": [
    "using RelevancePropagation\n",
    "using Flux\n",
    "\n",
    "model = Chain(\n",
    "    Chain(\n",
    "        Conv((3, 3), 3 => 8, relu; pad=1),\n",
    "        Conv((3, 3), 8 => 8, relu; pad=1),\n",
    "        MaxPool((2, 2)),\n",
    "        Conv((3, 3), 8 => 16; pad=1),\n",
    "        BatchNorm(16, relu),\n",
    "        Conv((3, 3), 16 => 8, relu; pad=1),\n",
    "        BatchNorm(8, relu),\n",
    "    ),\n",
    "    Chain(Flux.flatten, Dense(2048 => 512, relu), Dropout(0.5), Dense(512 => 100, softmax)),\n",
    ");"
   ],
   "metadata": {},
   "execution_count": 1
  },
  {
   "cell_type": "markdown",
   "source": [
    "This model contains two chains: the convolutional layers and the fully connected layers."
   ],
   "metadata": {}
  },
  {
   "cell_type": "markdown",
   "source": [
    "## Model preparation"
   ],
   "metadata": {}
  },
  {
   "cell_type": "markdown",
   "source": [
    "### Stripping the output softmax\n",
    "When using LRP, it is recommended to explain output logits instead of probabilities.\n",
    "This can be done by stripping the output softmax activation from the model\n",
    "using the `strip_softmax` function:"
   ],
   "metadata": {}
  },
  {
   "outputs": [
    {
     "output_type": "execute_result",
     "data": {
      "text/plain": "Chain(\n  Chain(\n    Conv((3, 3), 3 => 8, relu, pad=1),  \u001b[90m# 224 parameters\u001b[39m\n    Conv((3, 3), 8 => 8, relu, pad=1),  \u001b[90m# 584 parameters\u001b[39m\n    MaxPool((2, 2)),\n    Conv((3, 3), 8 => 16, pad=1),       \u001b[90m# 1_168 parameters\u001b[39m\n    BatchNorm(16, relu),                \u001b[90m# 32 parameters\u001b[39m\u001b[90m, plus 32\u001b[39m\n    Conv((3, 3), 16 => 8, relu, pad=1),  \u001b[90m# 1_160 parameters\u001b[39m\n    BatchNorm(8, relu),                 \u001b[90m# 16 parameters\u001b[39m\u001b[90m, plus 16\u001b[39m\n  ),\n  Chain(\n    Flux.flatten,\n    Dense(2048 => 512, relu),           \u001b[90m# 1_049_088 parameters\u001b[39m\n    Dropout(0.5),\n    Dense(512 => 100),                  \u001b[90m# 51_300 parameters\u001b[39m\n  ),\n) \u001b[90m        # Total: 16 trainable arrays, \u001b[39m1_103_572 parameters,\n\u001b[90m          # plus 4 non-trainable, 48 parameters, summarysize \u001b[39m4.213 MiB."
     },
     "metadata": {},
     "execution_count": 2
    }
   ],
   "cell_type": "code",
   "source": [
    "model = strip_softmax(model)"
   ],
   "metadata": {},
   "execution_count": 2
  },
  {
   "cell_type": "markdown",
   "source": [
    "If you don't remove the output softmax,\n",
    "model checks will fail."
   ],
   "metadata": {}
  },
  {
   "cell_type": "markdown",
   "source": [
    "### Canonizing the model\n",
    "LRP is not invariant to a model's implementation.\n",
    "Applying the `GammaRule` to two linear layers in a row will yield different results\n",
    "than first fusing the two layers into one linear layer and then applying the rule.\n",
    "This fusing is called \"canonization\" and can be done using the `canonize` function:"
   ],
   "metadata": {}
  },
  {
   "outputs": [
    {
     "output_type": "execute_result",
     "data": {
      "text/plain": "Chain(\n  Conv((3, 3), 3 => 8, relu, pad=1),    \u001b[90m# 224 parameters\u001b[39m\n  Conv((3, 3), 8 => 8, relu, pad=1),    \u001b[90m# 584 parameters\u001b[39m\n  MaxPool((2, 2)),\n  Conv((3, 3), 8 => 16, relu, pad=1),   \u001b[90m# 1_168 parameters\u001b[39m\n  Conv((3, 3), 16 => 8, relu, pad=1),   \u001b[90m# 1_160 parameters\u001b[39m\n  BatchNorm(8, relu),                   \u001b[90m# 16 parameters\u001b[39m\u001b[90m, plus 16\u001b[39m\n  Flux.flatten,\n  Dense(2048 => 512, relu),             \u001b[90m# 1_049_088 parameters\u001b[39m\n  Dropout(0.5),\n  Dense(512 => 100),                    \u001b[90m# 51_300 parameters\u001b[39m\n) \u001b[90m        # Total: 14 trainable arrays, \u001b[39m1_103_540 parameters,\n\u001b[90m          # plus 2 non-trainable, 16 parameters, summarysize \u001b[39m4.212 MiB."
     },
     "metadata": {},
     "execution_count": 3
    }
   ],
   "cell_type": "code",
   "source": [
    "model_canonized = canonize(model)"
   ],
   "metadata": {},
   "execution_count": 3
  },
  {
   "cell_type": "markdown",
   "source": [
    "After canonization, the first `BatchNorm` layer has been fused into the preceding `Conv` layer.\n",
    "The second `BatchNorm` layer wasn't fused\n",
    "since its preceding `Conv` layer has a ReLU activation function."
   ],
   "metadata": {}
  },
  {
   "cell_type": "markdown",
   "source": [
    "### Flattening the model\n",
    "RelevancePropagation.jl's LRP implementation supports nested Flux Chains and Parallel layers.\n",
    "However, it is recommended to flatten the model before analyzing it.\n",
    "\n",
    "LRP is implemented by first running a forward pass through the model,\n",
    "keeping track of the intermediate activations, followed by a backward pass\n",
    "that computes the relevances.\n",
    "\n",
    "To keep the LRP implementation simple and maintainable,\n",
    "RelevancePropagation.jl does not pre-compute \"nested\" activations.\n",
    "Instead, for every internal chain, a new forward pass is run to compute activations.\n",
    "\n",
    "By \"flattening\" a model, this overhead can be avoided.\n",
    "For this purpose, RelevancePropagation.jl provides the function `flatten_model`:"
   ],
   "metadata": {}
  },
  {
   "outputs": [
    {
     "output_type": "execute_result",
     "data": {
      "text/plain": "Chain(\n  Conv((3, 3), 3 => 8, relu, pad=1),    \u001b[90m# 224 parameters\u001b[39m\n  Conv((3, 3), 8 => 8, relu, pad=1),    \u001b[90m# 584 parameters\u001b[39m\n  MaxPool((2, 2)),\n  Conv((3, 3), 8 => 16, pad=1),         \u001b[90m# 1_168 parameters\u001b[39m\n  BatchNorm(16, relu),                  \u001b[90m# 32 parameters\u001b[39m\u001b[90m, plus 32\u001b[39m\n  Conv((3, 3), 16 => 8, relu, pad=1),   \u001b[90m# 1_160 parameters\u001b[39m\n  BatchNorm(8, relu),                   \u001b[90m# 16 parameters\u001b[39m\u001b[90m, plus 16\u001b[39m\n  Flux.flatten,\n  Dense(2048 => 512, relu),             \u001b[90m# 1_049_088 parameters\u001b[39m\n  Dropout(0.5),\n  Dense(512 => 100),                    \u001b[90m# 51_300 parameters\u001b[39m\n) \u001b[90m        # Total: 16 trainable arrays, \u001b[39m1_103_572 parameters,\n\u001b[90m          # plus 4 non-trainable, 48 parameters, summarysize \u001b[39m4.212 MiB."
     },
     "metadata": {},
     "execution_count": 4
    }
   ],
   "cell_type": "code",
   "source": [
    "model_flat = flatten_model(model)"
   ],
   "metadata": {},
   "execution_count": 4
  },
  {
   "cell_type": "markdown",
   "source": [
    "This function is called by default when creating an LRP analyzer.\n",
    "Note that we pass the unflattened model to the analyzer, but `analyzer.model` is flattened:"
   ],
   "metadata": {}
  },
  {
   "outputs": [
    {
     "output_type": "execute_result",
     "data": {
      "text/plain": "Chain(\n  Conv((3, 3), 3 => 8, relu, pad=1),    \u001b[90m# 224 parameters\u001b[39m\n  Conv((3, 3), 8 => 8, relu, pad=1),    \u001b[90m# 584 parameters\u001b[39m\n  MaxPool((2, 2)),\n  Conv((3, 3), 8 => 16, pad=1),         \u001b[90m# 1_168 parameters\u001b[39m\n  BatchNorm(16, relu),                  \u001b[90m# 32 parameters\u001b[39m\u001b[90m, plus 32\u001b[39m\n  Conv((3, 3), 16 => 8, relu, pad=1),   \u001b[90m# 1_160 parameters\u001b[39m\n  BatchNorm(8, relu),                   \u001b[90m# 16 parameters\u001b[39m\u001b[90m, plus 16\u001b[39m\n  Flux.flatten,\n  Dense(2048 => 512, relu),             \u001b[90m# 1_049_088 parameters\u001b[39m\n  Dropout(0.5),\n  Dense(512 => 100),                    \u001b[90m# 51_300 parameters\u001b[39m\n) \u001b[90m        # Total: 16 trainable arrays, \u001b[39m1_103_572 parameters,\n\u001b[90m          # plus 4 non-trainable, 48 parameters, summarysize \u001b[39m4.212 MiB."
     },
     "metadata": {},
     "execution_count": 5
    }
   ],
   "cell_type": "code",
   "source": [
    "analyzer = LRP(model)\n",
    "analyzer.model"
   ],
   "metadata": {},
   "execution_count": 5
  },
  {
   "cell_type": "markdown",
   "source": [
    "If this flattening is not desired, it can be disabled\n",
    "by passing the keyword argument `flatten=false` to the `LRP` constructor."
   ],
   "metadata": {}
  },
  {
   "cell_type": "markdown",
   "source": [
    "## LRP rules\n",
    "By default, the `LRP` constructor will assign the `ZeroRule` to all layers."
   ],
   "metadata": {}
  },
  {
   "outputs": [
    {
     "output_type": "execute_result",
     "data": {
      "text/plain": "LRP(\n  Conv((3, 3), 3 => 8, relu, pad=1) \u001b[90m => \u001b[39m\u001b[33mZeroRule()\u001b[39m,\n  Conv((3, 3), 8 => 8, relu, pad=1) \u001b[90m => \u001b[39m\u001b[33mZeroRule()\u001b[39m,\n  MaxPool((2, 2))                   \u001b[90m => \u001b[39m\u001b[33mZeroRule()\u001b[39m,\n  Conv((3, 3), 8 => 16, pad=1)      \u001b[90m => \u001b[39m\u001b[33mZeroRule()\u001b[39m,\n  BatchNorm(16, relu)               \u001b[90m => \u001b[39m\u001b[33mZeroRule()\u001b[39m,\n  Conv((3, 3), 16 => 8, relu, pad=1)\u001b[90m => \u001b[39m\u001b[33mZeroRule()\u001b[39m,\n  BatchNorm(8, relu)                \u001b[90m => \u001b[39m\u001b[33mZeroRule()\u001b[39m,\n  Flux.flatten                      \u001b[90m => \u001b[39m\u001b[33mZeroRule()\u001b[39m,\n  Dense(2048 => 512, relu)          \u001b[90m => \u001b[39m\u001b[33mZeroRule()\u001b[39m,\n  Dropout(0.5)                      \u001b[90m => \u001b[39m\u001b[33mZeroRule()\u001b[39m,\n  Dense(512 => 100)                 \u001b[90m => \u001b[39m\u001b[33mZeroRule()\u001b[39m,\n)"
     },
     "metadata": {},
     "execution_count": 6
    }
   ],
   "cell_type": "code",
   "source": [
    "LRP(model)"
   ],
   "metadata": {},
   "execution_count": 6
  },
  {
   "cell_type": "markdown",
   "source": [
    "This analyzer will return heatmaps that look identical to the `InputTimesGradient` analyzer\n",
    "from [ExplainableAI.jl](https://github.com/Julia-XAI/ExplainableAI.jl)."
   ],
   "metadata": {}
  },
  {
   "cell_type": "markdown",
   "source": [
    "LRP's strength lies in assigning different rules to different layers,\n",
    "based on their functionality in the neural network[^1].\n",
    "RelevancePropagation.jl implements many LRP rules out of the box,\n",
    "but it is also possible to *implement custom rules*.\n",
    "\n",
    "To assign different rules to different layers,\n",
    "use one of the composites presets,\n",
    "or create your own composite, as described in\n",
    "*Assigning rules to layers*."
   ],
   "metadata": {}
  },
  {
   "outputs": [
    {
     "output_type": "execute_result",
     "data": {
      "text/plain": "Composite(\n  GlobalTypeMap(  \u001b[90m# all layers\u001b[39m\n\u001b[94m    Flux.Conv              \u001b[39m => \u001b[33mZPlusRule()\u001b[39m,\n\u001b[94m    Flux.ConvTranspose     \u001b[39m => \u001b[33mZPlusRule()\u001b[39m,\n\u001b[94m    Flux.CrossCor          \u001b[39m => \u001b[33mZPlusRule()\u001b[39m,\n\u001b[94m    Flux.Dense             \u001b[39m => \u001b[33mEpsilonRule{Float32}(1.0f-6)\u001b[39m,\n\u001b[94m    typeof(NNlib.dropout)  \u001b[39m => \u001b[33mPassRule()\u001b[39m,\n\u001b[94m    Flux.AlphaDropout      \u001b[39m => \u001b[33mPassRule()\u001b[39m,\n\u001b[94m    Flux.Dropout           \u001b[39m => \u001b[33mPassRule()\u001b[39m,\n\u001b[94m    Flux.BatchNorm         \u001b[39m => \u001b[33mPassRule()\u001b[39m,\n\u001b[94m    typeof(Flux.flatten)   \u001b[39m => \u001b[33mPassRule()\u001b[39m,\n\u001b[94m    typeof(MLUtils.flatten)\u001b[39m => \u001b[33mPassRule()\u001b[39m,\n\u001b[94m    typeof(identity)       \u001b[39m => \u001b[33mPassRule()\u001b[39m,\n ),\n  FirstLayerTypeMap(  \u001b[90m# first layer\u001b[39m\n\u001b[94m    Flux.Conv         \u001b[39m => \u001b[33mFlatRule()\u001b[39m,\n\u001b[94m    Flux.ConvTranspose\u001b[39m => \u001b[33mFlatRule()\u001b[39m,\n\u001b[94m    Flux.CrossCor     \u001b[39m => \u001b[33mFlatRule()\u001b[39m,\n ),\n)"
     },
     "metadata": {},
     "execution_count": 7
    }
   ],
   "cell_type": "code",
   "source": [
    "composite = EpsilonPlusFlat() # using composite preset EpsilonPlusFlat"
   ],
   "metadata": {},
   "execution_count": 7
  },
  {
   "outputs": [
    {
     "output_type": "execute_result",
     "data": {
      "text/plain": "LRP(\n  Conv((3, 3), 3 => 8, relu, pad=1) \u001b[90m => \u001b[39m\u001b[33mFlatRule()\u001b[39m,\n  Conv((3, 3), 8 => 8, relu, pad=1) \u001b[90m => \u001b[39m\u001b[33mZPlusRule()\u001b[39m,\n  MaxPool((2, 2))                   \u001b[90m => \u001b[39m\u001b[33mZeroRule()\u001b[39m,\n  Conv((3, 3), 8 => 16, pad=1)      \u001b[90m => \u001b[39m\u001b[33mZPlusRule()\u001b[39m,\n  BatchNorm(16, relu)               \u001b[90m => \u001b[39m\u001b[33mPassRule()\u001b[39m,\n  Conv((3, 3), 16 => 8, relu, pad=1)\u001b[90m => \u001b[39m\u001b[33mZPlusRule()\u001b[39m,\n  BatchNorm(8, relu)                \u001b[90m => \u001b[39m\u001b[33mPassRule()\u001b[39m,\n  Flux.flatten                      \u001b[90m => \u001b[39m\u001b[33mPassRule()\u001b[39m,\n  Dense(2048 => 512, relu)          \u001b[90m => \u001b[39m\u001b[33mEpsilonRule{Float32}(1.0f-6)\u001b[39m,\n  Dropout(0.5)                      \u001b[90m => \u001b[39m\u001b[33mPassRule()\u001b[39m,\n  Dense(512 => 100)                 \u001b[90m => \u001b[39m\u001b[33mEpsilonRule{Float32}(1.0f-6)\u001b[39m,\n)"
     },
     "metadata": {},
     "execution_count": 8
    }
   ],
   "cell_type": "code",
   "source": [
    "LRP(model, composite)"
   ],
   "metadata": {},
   "execution_count": 8
  },
  {
   "cell_type": "markdown",
   "source": [
    "## Computing layerwise relevances\n",
    "If you are interested in computing layerwise relevances,\n",
    "call `analyze` with an LRP analyzer and the keyword argument\n",
    "`layerwise_relevances=true`.\n",
    "\n",
    "The layerwise relevances can be accessed in the `extras` field\n",
    "of the returned `Explanation`:"
   ],
   "metadata": {}
  },
  {
   "outputs": [
    {
     "output_type": "execute_result",
     "data": {
      "text/plain": "(Float32[-0.00584379 0.010976628 … -0.8489877 0.41473618; -0.111186825 -0.007236308 … -0.57509327 -0.33404493; … ; -0.318607 -0.1631881 … -0.39833358 -0.8491205; -0.06862336 -0.058285337 … 0.20702879 -0.089405656;;; 0.021035409 -0.25340098 … 0.070330605 -0.20374344; 0.06481471 0.08357222 … 1.1325903 -0.86053723; … ; -0.037159912 -0.09796273 … -0.7126628 -0.17605163; 0.06585864 -0.015253461 … 0.16240549 0.038719453;;; 0.021785924 -0.24512377 … 0.12371664 -0.10452994; -0.0060059065 0.22955076 … -0.8252561 -0.17493479; … ; 0.0109713115 0.032772303 … 0.035563458 0.62521297; 0.041167952 -0.037997916 … 0.11403287 -0.29176804;;;;], Float32[0.0 -0.081635825 … -0.0 -0.28855646; 0.0 -0.0 … -0.0 0.026889622; … ; -0.0 -0.0 … -0.0 -0.77807873; -0.0 -0.0 … -0.0 0.0;;; -0.053171765 -0.0 … -0.00784181 -0.0; -0.2582689 -0.0 … -0.0 0.0; … ; -0.04270443 -0.1131795 … 0.0 0.0; -0.04443729 -0.0123758 … -0.0 0.0;;; -0.0 -0.0 … 0.23398538 0.0; 0.0 -0.0 … 0.0 0.105874486; … ; -0.0 -0.0 … -0.0 -0.0; -0.0 -0.0 … 0.0 0.0056054825;;; -0.0 -0.0 … -0.0 -0.0; -0.0 -0.0 … -0.0 0.0; … ; -0.0 -0.0 … 0.0 0.0; 0.013865956 -0.0 … 0.0 0.0;;; -0.104093574 -0.36749557 … 2.7363715 -0.0956936; -0.11383887 -0.046136696 … -0.04574086 -0.0; … ; -0.28579193 -0.2706866 … -0.07453611 0.2980256; -0.009962991 -0.0233012 … 0.033879012 -0.0;;; 0.0 -0.0 … 0.0 -0.0; 0.015406196 0.08145596 … -0.0 -0.05160109; … ; 0.0 -0.0 … -0.048813134 -0.27038413; 0.037706275 0.18028139 … -0.18042248 0.0057352837;;; -0.0 0.0 … -0.0 0.074425355; 0.0 -0.0 … 0.0 0.0; … ; -0.0 0.012536465 … -0.0 0.47883624; 0.0 0.0014917342 … -0.0546522 -0.027255027;;; 0.012432129 0.04994183 … -0.5530123 0.042592756; -0.008845005 -0.74115765 … -0.3525627 0.02540106; … ; 0.10392419 -0.1702637 … 0.41436145 0.13094592; 0.07530797 -0.019787954 … -0.0906665 0.008106598;;;;], Float32[0.0 0.0 … 0.0 0.0; 0.004240462 0.0 … -0.20775135 0.0; … ; 0.0 0.0 … 0.0 0.0; 0.0 0.45312303 … -0.16054079 0.0;;; -0.093263716 0.0 … 0.0 0.0; 0.0 0.0 … 0.0 0.0; … ; 0.0 0.0 … 0.0 0.0; 0.0 0.0 … 0.0 0.0;;; 0.0 0.0 … 0.0 -0.420972; 0.0 0.0 … 0.0 0.0; … ; 0.0 0.0 … 0.0 0.0; 0.0 0.11003296 … 0.0 0.02460515;;; 0.0 0.0 … 0.0 0.0; -0.1628212 0.0 … 0.0 0.034783695; … ; 0.0 0.0 … 0.0 0.0; -0.17867 0.0 … 0.0 0.0;;; 0.0 0.0 … 0.0 0.0; 0.0 0.0030059207 … 0.0 -0.71813315; … ; 0.0 0.0 … 0.0 -0.29828724; 0.0 0.0 … 0.0 0.0;;; 0.0 0.0 … 0.0 0.0; 0.0 0.0 … 0.0 0.0; … ; 0.0 0.0 … 0.0 0.0; 0.0 0.0 … 0.0 0.0;;; 0.0 0.0 … 0.0 0.0; 0.0 0.004536527 … 0.0 0.042340927; … ; 0.0 0.0 … 0.0 0.0; 0.16032995 0.0 … -0.1126199 0.0;;; -0.68983555 0.0 … -0.10606469 0.0; 0.0 0.0 … 0.0 0.0; … ; -0.44217408 0.0 … 0.0 0.0; 0.0 0.0 … 0.0 0.0;;;;], Float32[0.004240462 0.071509235 … 5.1677666 -0.20775135; 0.14933448 -0.44635954 … 5.162412 -0.39452606; … ; -0.10682773 -0.0237972 … -3.1099796 -2.139134; 0.45312303 0.09076714 … 0.36039615 -0.16054079;;; -0.093263716 -0.021902531 … -0.0 -0.0; -0.18090606 -0.0 … -0.0 -0.0; … ; -0.0 -0.0 … 0.0 -0.0; -0.0 -0.0 … -0.0 -0.0;;; 0.0 -0.007972488 … 1.010207 -0.420972; 0.0 -0.049447197 … 0.13828044 0.11049352; … ; 0.0 0.10649591 … -1.9416726 -1.6116962; 0.11003296 0.020517763 … 0.2488645 0.02460515;;; -0.1628212 -0.051276214 … -0.0 0.034783695; -0.382512 -0.19773868 … -2.1101112 0.22711118; … ; -0.4412106 -0.21574165 … -0.65169173 0.71304667; -0.17867 -0.07139837 … -0.22192648 -0.0;;; 0.003005921 -0.04877203 … 2.3124523 -0.71813315; 0.0 -0.07110692 … 0.19135399 0.065169744; … ; -0.046843622 0.0 … 0.51252055 2.9035916; 0.0 -0.010416962 … -0.05656238 -0.29828724;;; -0.0 -0.0 … -0.0 -0.0; -0.0 -0.0 … -0.0 -0.0; … ; 0.0 -0.0 … 0.0 0.0; -0.0 -0.0 … -0.0 -0.0;;; 0.004536527 0.23769596 … -0.64611435 0.042340927; -0.016015505 0.0070045185 … -1.541028 0.2089523; … ; 0.058902916 -0.10308413 … -2.3747988 -0.0; 0.16032995 -0.26207963 … -0.09575857 -0.1126199;;; -0.68983555 -0.0 … 0.15305795 -0.10606469; -0.69434893 -0.0 … 0.005653337 0.0; … ; -0.46456966 -0.0 … -0.0 -0.0; -0.44217408 -0.0 … -0.0 -0.0;;;;], Float32[1.3188509f-5 1.9990532f-5 … 0.0026570763 1.7772923f-5; -5.3025222f-5 1.960186f-5 … -0.00015521128 4.106854f-6; … ; -5.076017f-8 -1.4580535f-5 … 1.471364f-5 2.0475287f-5; 1.177901f-6 -6.8518995f-5 … -4.574745f-5 -0.0016918471;;; 4.846336f-6 0.00012489903 … 0.00021126421 0.00021388357; -0.0007265991 -0.00023563826 … -2.0947373f-7 0.00021383898; … ; 2.3259934f-5 0.00021345171 … 9.006239f-5 0.00019766628; -0.000140189 0.0015200943 … 0.029779948 -0.00013714274;;; -0.0013959926 0.0026488914 … -0.24149999 0.0008042962; -0.001128746 -0.0013140335 … -0.00026881366 0.069291376; … ; 0.0019621649 0.0017715493 … 0.00012894606 0.013221476; 0.0017709397 0.0019120645 … 0.0005655833 -0.050921343;;; … ;;; 0.0002371125 -0.0004910826 … 0.00028825793 0.0002686734; 0.00029731938 -0.00030150454 … 0.00027435005 -0.00017828941; … ; -0.0002318362 -0.00023918392 … 0.0002359992 8.831985f-5; 0.0002146819 0.00016455777 … 0.0033494604 0.00026092597;;; -0.0 0.0 … -0.0 -0.0; -0.0 0.0 … -0.0 -0.0; … ; -0.0 -0.0 … -0.0 0.0; -0.0 0.0 … 0.0 0.0;;; -4.0622075f-5 0.0006028305 … -3.6560057f-5 -6.510132f-5; -5.9827278f-5 -8.2256476f-5 … -0.0004227317 0.0037416816; … ; -6.763769f-5 -6.089244f-5 … -7.8535246f-5 -9.354619f-5; -7.483471f-5 0.0006360949 … 0.00018253208 -8.1916965f-5;;;;], Float32[0.0 -0.0 … 0.010150174 -0.0; 0.0 -0.0 … -0.001999617 -0.0; … ; 0.0 -0.0 … -0.0 0.0; 0.0 0.0 … -0.0 -0.0066287336;;; -0.0 0.0 … 0.0 0.0; 0.0 0.0 … 0.00068963825 0.0; … ; -0.0 0.0 … -0.0 -0.0; -0.0014871733 0.0066726757 … 0.06234133 -0.00032038757;;; 0.002164475 0.0058031343 … -0.012154963 0.0011483472; 0.0048417663 0.009753885 … 0.00096757297 0.032217115; … ; -0.0 0.0 … 0.0 0.010521905; 0.0 0.0 … -0.0 -0.030855836;;; … ;;; 0.0 0.0 … 0.0 -0.0; -0.0 0.0 … 0.0 0.0; … ; 0.0 0.0 … 0.0 0.0; 0.0 -0.0 … 0.022265362 0.0;;; 0.0 -0.0 … -0.0 0.0; -0.0 -0.0 … 0.0 0.0; … ; -0.0 0.0 … -0.0 -0.0; 0.0 -0.0 … -0.0 -0.0;;; -0.0 0.0035228785 … 0.0 -0.00092677755; -0.0 -0.0 … -0.0033411446 0.009903548; … ; -0.0 -0.0 … -0.0 0.0; 0.0 -0.0 … 0.0 0.0;;;;], Float32[0.0040496415 0.021704301 … 0.021949695 0.0022061504; 0.08935457 0.0023863122 … 0.0044678254 0.0032711036; … ; 0.014311961 0.0068063335 … 0.0074171443 0.0; 0.0020827565 0.0029542341 … 0.0021318365 0.0;;; 0.000471047 -0.0 … -0.0 -0.0; -0.0 -0.0 … -0.0 -0.0; … ; -0.0 -0.0 … -0.0 -0.0; -0.0 -0.0 … -0.0 0.0005957309;;; -0.046642005 -0.0072294646 … -0.0 -0.009286321; -0.010017555 -0.0 … -0.07089331 -0.032385938; … ; -0.030468479 -0.07689962 … -0.045621797 0.0721189; -0.0 -0.0 … -0.0 -0.0;;; -0.0 -0.0058826036 … -0.0018296922 -0.006940586; -0.0 -0.0008046827 … -0.00041947042 0.020622084; … ; -0.0 -0.0 … -0.0 -0.004358031; -0.0 -0.0 … -0.0040244088 -0.005110168;;; 0.008318922 0.012147732 … 0.01046087 0.0032800524; 0.006708647 0.012135749 … 0.5329416 0.008725906; … ; 0.007978486 0.01114627 … -0.14926161 0.012123203; 0.00933524 0.037269004 … -0.058515698 0.012046469;;; -0.0 -0.0009098929 … 0.0023438113 -0.00084101956; -0.0 -0.0 … -0.0 0.002913793; … ; -0.0 -0.0 … -0.0 0.00045433294; -0.0 -0.0 … -0.0 -0.0;;; 0.0 0.0 … 0.0 0.0; 0.004147573 0.0 … 0.0 0.0; … ; 0.0021047606 0.014407469 … 0.0 0.0; -0.0077664596 0.00014194573 … 0.0 0.0;;; 0.0005611117 0.0006671033 … 0.00244989 0.0011801452; 0.0023267618 0.014435748 … 0.013465589 0.0018808852; … ; 0.0 0.0 … 0.00044530316 0.019342557; 0.0 0.002452903 … 0.0006086873 0.0012548501;;;;], Float32[-0.0036733244 0.0018160276 … 0.0017175127 0.00019338987; 0.024610892 -0.0010152868 … -0.0014731984 0.004659796; … ; 0.001482164 1.8472529f-5 … -0.00018068586 -0.0; -0.007100451 -0.0027511022 … 0.0009129367 -0.0;;; 0.00093847164 -0.0 … 0.0 -0.0; -0.0 0.0 … -0.0 -0.0; … ; 0.0 -0.0 … 0.0 0.0; 0.0 -0.0 … -0.0 0.0007328735;;; -0.0059948764 -0.0021426375 … -0.0 -0.0008499426; 0.00039182813 -0.0 … -0.012547351 -0.0014761325; … ; 0.0015668124 -0.00509831 … -0.0012166876 0.0025557075; 0.0 -0.0 … 0.0 0.0;;; 0.0 0.0006563988 … -0.00016918415 0.0009645922; -0.0 8.692272f-5 … 0.0012469507 0.013828428; … ; 0.0 -0.0 … 0.0 0.0008059708; 0.0 -0.0 … -0.0035766594 -0.008090952;;; -0.002094752 -0.0036183237 … 0.00849646 -0.00067031034; -0.0062007234 -0.025323104 … 0.019860115 -0.0048168497; … ; -0.0047681816 -0.004679119 … -0.0057226606 9.721168f-5; 0.008934156 0.0034587553 … -0.009350003 0.009814426;;; -0.0 -0.0005282143 … 0.0020251523 0.0018405386; -0.0 0.0 … -0.0 0.0024328716; … ; 0.0 0.0 … -0.0 0.0003843518; -0.0 -0.0 … 0.0 0.0;;; -0.0 -0.0 … 0.0 0.0; 0.0022563022 -0.0 … 0.0 -0.0; … ; -0.0014415255 0.010452289 … -0.0 -0.0; -0.008459311 -2.9511614f-6 … 0.0 0.0;;; 0.00046170998 -0.00086931174 … 0.004099002 -0.0028899962; 0.0002783591 0.006951789 … 0.0022288382 0.0024341273; … ; 0.0 -0.0 … -0.00017071374 0.008761815; 0.0 -0.0047592157 … -3.4337714f-5 0.00029115065;;;;], Float32[-0.0036733244; 0.024610892; … ; 0.008761815; 0.00029115065;;], Float32[0.012484154; 0.0050797784; … ; 0.0; -0.0;;], Float32[0.012484154; 0.0050797784; … ; 0.0; -0.0;;], Float32[0.0; 0.0; … ; 0.0; 0.0;;])"
     },
     "metadata": {},
     "execution_count": 9
    }
   ],
   "cell_type": "code",
   "source": [
    "input = rand(Float32, 32, 32, 3, 1) # dummy input for our convolutional neural network\n",
    "\n",
    "expl = analyze(input, analyzer; layerwise_relevances=true)\n",
    "expl.extras.layerwise_relevances"
   ],
   "metadata": {},
   "execution_count": 9
  },
  {
   "cell_type": "markdown",
   "source": [
    "Note that the layerwise relevances are only kept for layers in the outermost `Chain` of the model.\n",
    "When using our unflattened model, we only obtain three layerwise relevances,\n",
    "one for each chain in the model and the output relevance:"
   ],
   "metadata": {}
  },
  {
   "outputs": [
    {
     "output_type": "execute_result",
     "data": {
      "text/plain": "(Float32[-0.019871518 0.009944855 … -3.3909822 3.4303145; 0.023644403 0.08702983 … -0.27685168 -2.1121042; … ; -0.47993854 -0.47831136 … -0.04160514 -0.054200735; 0.00013453509 -0.30948883 … 0.18875258 0.5883602;;; 0.0346742 0.4070622 … -0.35082757 -1.2455317; -0.09414068 0.1667381 … 2.9905298 -2.5171635; … ; 0.21917741 1.5192069 … -0.12314603 -0.024918906; -0.22674419 -0.030950567 … 0.04682569 0.37030694;;; -0.01722482 0.37481585 … 0.5860816 -0.30804464; 0.0954379 0.36652276 … -4.478277 0.9526765; … ; -0.015079631 0.6085378 … 0.003001216 0.433794; -0.029013125 -0.36587438 … 0.20591211 -0.33063006;;;;], Float32[-0.0031324464 -0.00013716787 … 0.0006017549 0.0005306541; 0.027190208 0.0009918087 … -0.0014280716 0.005583092; … ; 0.0033116234 0.0006163264 … -0.0015366165 0.0; -0.0042274864 -0.0021100063 … 0.00035839688 -0.0;;; 0.000676363 -0.0 … 0.0 -0.0; -0.0 0.0 … -0.0 -0.0; … ; 0.0 -0.0 … 0.0 0.0; 0.0 -0.0 … -0.0 0.0010869367;;; -0.006928319 -0.0020912997 … -0.0 -0.0009578521; 0.00015117196 -0.0 … -0.012300569 -0.002171361; … ; 0.0033378382 -0.006535971 … -0.002539493 0.0030631525; 0.0 -0.0 … 0.0 0.0;;; 0.0 -6.8848734f-5 … -2.8079787f-5 -0.0008255897; -0.0 -5.2251596f-7 … 0.0 0.012432526; … ; 0.0 -0.0 … 0.0 0.00033707067; 0.0 0.0 … -0.0024536827 -0.008381631;;; -0.0015456246 -0.0041529033 … 0.005456154 -0.0; -0.0026897937 -0.02220418 … 0.023019793 -0.002865066; … ; -0.002801724 0.00053195376 … -0.006719244 0.003975715; 0.008676696 0.0047253836 … -0.0083012935 0.008155165;;; -0.0 -0.0003102764 … 0.0010226308 0.003429891; -0.0 0.0 … -0.0 0.0026662273; … ; 0.0 0.0 … -0.0 0.00034203735; -0.0 -0.0 … 0.0 0.0;;; -0.0 -0.0 … 0.0 0.0; 0.0029757856 -0.0 … 0.0 -0.0; … ; 0.0011879735 0.014630943 … -0.0 -0.0; -0.009603468 2.294845f-5 … 0.0 0.0;;; 0.0 -0.00016280414 … 0.005349392 -0.0025960242; 0.0008462277 0.0074509485 … 0.0028953396 0.0009859005; … ; 0.0 -0.0 … -0.0 0.007820529; 0.0 -0.005685719 … 2.8752846f-5 0.0001924142;;;;], Float32[0.0; 0.0; … ; 0.0; 0.0;;])"
     },
     "metadata": {},
     "execution_count": 10
    }
   ],
   "cell_type": "code",
   "source": [
    "analyzer = LRP(model; flatten=false) # use unflattened model\n",
    "\n",
    "expl = analyze(input, analyzer; layerwise_relevances=true)\n",
    "expl.extras.layerwise_relevances"
   ],
   "metadata": {},
   "execution_count": 10
  },
  {
   "cell_type": "markdown",
   "source": [
    "## Performance tips\n",
    "### Using LRP with a GPU\n",
    "All LRP analyzers support GPU backends,\n",
    "building on top of [Flux.jl's GPU support](https://fluxml.ai/Flux.jl/stable/gpu/).\n",
    "Using a GPU only requires moving the input array and model weights to the GPU.\n",
    "\n",
    "For example, using [CUDA.jl](https://github.com/JuliaGPU/CUDA.jl):"
   ],
   "metadata": {}
  },
  {
   "cell_type": "markdown",
   "source": [
    "```julia\n",
    "using CUDA, cuDNN\n",
    "using Flux\n",
    "using ExplainableAI\n",
    "\n",
    "# move input array and model weights to GPU\n",
    "input = input |> gpu # or gpu(input)\n",
    "model = model |> gpu # or gpu(model)\n",
    "\n",
    "# analyzers don't require calling `gpu`\n",
    "analyzer = LRP(model)\n",
    "\n",
    "# explanations are computed on the GPU\n",
    "expl = analyze(input, analyzer)\n",
    "```"
   ],
   "metadata": {}
  },
  {
   "cell_type": "markdown",
   "source": [
    "Some operations, like saving, require moving explanations back to the CPU.\n",
    "This can be done using Flux's `cpu` function:"
   ],
   "metadata": {}
  },
  {
   "cell_type": "markdown",
   "source": [
    "```julia\n",
    "val = expl.val |> cpu # or cpu(expl.val)\n",
    "\n",
    "using BSON\n",
    "BSON.@save \"explanation.bson\" val\n",
    "```\n",
    "\n",
    "### Using LRP without a GPU\n",
    "Using Julia's package extension mechanism,\n",
    "RelevancePropagation.jl's LRP implementation can optionally make use of\n",
    "[Tullio.jl](https://github.com/mcabbott/Tullio.jl) and\n",
    "[LoopVectorization.jl](https://github.com/JuliaSIMD/LoopVectorization.jl)\n",
    "for faster LRP rules on dense layers.\n",
    "\n",
    "This only requires loading the packages before loading RelevancePropagation.jl:\n",
    "```julia\n",
    "using LoopVectorization, Tullio\n",
    "using RelevancePropagation\n",
    "```\n",
    "\n",
    "[^1]: G. Montavon et al., [Layer-Wise Relevance Propagation: An Overview](https://link.springer.com/chapter/10.1007/978-3-030-28954-6_10)"
   ],
   "metadata": {}
  },
  {
   "cell_type": "markdown",
   "source": [
    "---\n",
    "\n",
    "*This notebook was generated using [Literate.jl](https://github.com/fredrikekre/Literate.jl).*"
   ],
   "metadata": {}
  }
 ],
 "nbformat_minor": 3,
 "metadata": {
  "language_info": {
   "file_extension": ".jl",
   "mimetype": "application/julia",
   "name": "julia",
   "version": "1.10.0"
  },
  "kernelspec": {
   "name": "julia-1.10",
   "display_name": "Julia 1.10.0",
   "language": "julia"
  }
 },
 "nbformat": 4
}
