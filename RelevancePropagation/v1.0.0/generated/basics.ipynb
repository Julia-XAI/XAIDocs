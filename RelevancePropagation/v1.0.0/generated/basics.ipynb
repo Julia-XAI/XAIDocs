{
 "cells": [
  {
   "cell_type": "markdown",
   "source": [
    "# Basic usage of LRP"
   ],
   "metadata": {}
  },
  {
   "cell_type": "markdown",
   "source": [
    "We start out by loading a small convolutional neural network:"
   ],
   "metadata": {}
  },
  {
   "outputs": [],
   "cell_type": "code",
   "source": [
    "using RelevancePropagation\n",
    "using Flux\n",
    "\n",
    "model = Chain(\n",
    "    Chain(\n",
    "        Conv((3, 3), 3 => 8, relu; pad=1),\n",
    "        Conv((3, 3), 8 => 8, relu; pad=1),\n",
    "        MaxPool((2, 2)),\n",
    "        Conv((3, 3), 8 => 16; pad=1),\n",
    "        BatchNorm(16, relu),\n",
    "        Conv((3, 3), 16 => 8, relu; pad=1),\n",
    "        BatchNorm(8, relu),\n",
    "    ),\n",
    "    Chain(Flux.flatten, Dense(2048 => 512, relu), Dropout(0.5), Dense(512 => 100, softmax)),\n",
    ");"
   ],
   "metadata": {},
   "execution_count": 1
  },
  {
   "cell_type": "markdown",
   "source": [
    "This model contains two chains: the convolutional layers and the fully connected layers."
   ],
   "metadata": {}
  },
  {
   "cell_type": "markdown",
   "source": [
    "## Model preparation"
   ],
   "metadata": {}
  },
  {
   "cell_type": "markdown",
   "source": [
    "### Stripping the output softmax\n",
    "When using LRP, it is recommended to explain output logits instead of probabilities.\n",
    "This can be done by stripping the output softmax activation from the model\n",
    "using the `strip_softmax` function:"
   ],
   "metadata": {}
  },
  {
   "outputs": [
    {
     "output_type": "execute_result",
     "data": {
      "text/plain": "Chain(\n  Chain(\n    Conv((3, 3), 3 => 8, relu, pad=1),  \u001b[90m# 224 parameters\u001b[39m\n    Conv((3, 3), 8 => 8, relu, pad=1),  \u001b[90m# 584 parameters\u001b[39m\n    MaxPool((2, 2)),\n    Conv((3, 3), 8 => 16, pad=1),       \u001b[90m# 1_168 parameters\u001b[39m\n    BatchNorm(16, relu),                \u001b[90m# 32 parameters\u001b[39m\u001b[90m, plus 32\u001b[39m\n    Conv((3, 3), 16 => 8, relu, pad=1),  \u001b[90m# 1_160 parameters\u001b[39m\n    BatchNorm(8, relu),                 \u001b[90m# 16 parameters\u001b[39m\u001b[90m, plus 16\u001b[39m\n  ),\n  Chain(\n    Flux.flatten,\n    Dense(2048 => 512, relu),           \u001b[90m# 1_049_088 parameters\u001b[39m\n    Dropout(0.5),\n    Dense(512 => 100),                  \u001b[90m# 51_300 parameters\u001b[39m\n  ),\n) \u001b[90m        # Total: 16 trainable arrays, \u001b[39m1_103_572 parameters,\n\u001b[90m          # plus 4 non-trainable, 48 parameters, summarysize \u001b[39m4.213 MiB."
     },
     "metadata": {},
     "execution_count": 2
    }
   ],
   "cell_type": "code",
   "source": [
    "model = strip_softmax(model)"
   ],
   "metadata": {},
   "execution_count": 2
  },
  {
   "cell_type": "markdown",
   "source": [
    "If you don't remove the output softmax,\n",
    "model checks will fail."
   ],
   "metadata": {}
  },
  {
   "cell_type": "markdown",
   "source": [
    "### Canonizing the model\n",
    "LRP is not invariant to a model's implementation.\n",
    "Applying the `GammaRule` to two linear layers in a row will yield different results\n",
    "than first fusing the two layers into one linear layer and then applying the rule.\n",
    "This fusing is called \"canonization\" and can be done using the `canonize` function:"
   ],
   "metadata": {}
  },
  {
   "outputs": [
    {
     "output_type": "execute_result",
     "data": {
      "text/plain": "Chain(\n  Conv((3, 3), 3 => 8, relu, pad=1),    \u001b[90m# 224 parameters\u001b[39m\n  Conv((3, 3), 8 => 8, relu, pad=1),    \u001b[90m# 584 parameters\u001b[39m\n  MaxPool((2, 2)),\n  Conv((3, 3), 8 => 16, relu, pad=1),   \u001b[90m# 1_168 parameters\u001b[39m\n  Conv((3, 3), 16 => 8, relu, pad=1),   \u001b[90m# 1_160 parameters\u001b[39m\n  BatchNorm(8, relu),                   \u001b[90m# 16 parameters\u001b[39m\u001b[90m, plus 16\u001b[39m\n  Flux.flatten,\n  Dense(2048 => 512, relu),             \u001b[90m# 1_049_088 parameters\u001b[39m\n  Dropout(0.5),\n  Dense(512 => 100),                    \u001b[90m# 51_300 parameters\u001b[39m\n) \u001b[90m        # Total: 14 trainable arrays, \u001b[39m1_103_540 parameters,\n\u001b[90m          # plus 2 non-trainable, 16 parameters, summarysize \u001b[39m4.212 MiB."
     },
     "metadata": {},
     "execution_count": 3
    }
   ],
   "cell_type": "code",
   "source": [
    "model_canonized = canonize(model)"
   ],
   "metadata": {},
   "execution_count": 3
  },
  {
   "cell_type": "markdown",
   "source": [
    "After canonization, the first `BatchNorm` layer has been fused into the preceding `Conv` layer.\n",
    "The second `BatchNorm` layer wasn't fused\n",
    "since its preceding `Conv` layer has a ReLU activation function."
   ],
   "metadata": {}
  },
  {
   "cell_type": "markdown",
   "source": [
    "### Flattening the model\n",
    "RelevancePropagation.jl's LRP implementation supports nested Flux Chains and Parallel layers.\n",
    "However, it is recommended to flatten the model before analyzing it.\n",
    "\n",
    "LRP is implemented by first running a forward pass through the model,\n",
    "keeping track of the intermediate activations, followed by a backward pass\n",
    "that computes the relevances.\n",
    "\n",
    "To keep the LRP implementation simple and maintainable,\n",
    "RelevancePropagation.jl does not pre-compute \"nested\" activations.\n",
    "Instead, for every internal chain, a new forward pass is run to compute activations.\n",
    "\n",
    "By \"flattening\" a model, this overhead can be avoided.\n",
    "For this purpose, RelevancePropagation.jl provides the function `flatten_model`:"
   ],
   "metadata": {}
  },
  {
   "outputs": [
    {
     "output_type": "execute_result",
     "data": {
      "text/plain": "Chain(\n  Conv((3, 3), 3 => 8, relu, pad=1),    \u001b[90m# 224 parameters\u001b[39m\n  Conv((3, 3), 8 => 8, relu, pad=1),    \u001b[90m# 584 parameters\u001b[39m\n  MaxPool((2, 2)),\n  Conv((3, 3), 8 => 16, pad=1),         \u001b[90m# 1_168 parameters\u001b[39m\n  BatchNorm(16, relu),                  \u001b[90m# 32 parameters\u001b[39m\u001b[90m, plus 32\u001b[39m\n  Conv((3, 3), 16 => 8, relu, pad=1),   \u001b[90m# 1_160 parameters\u001b[39m\n  BatchNorm(8, relu),                   \u001b[90m# 16 parameters\u001b[39m\u001b[90m, plus 16\u001b[39m\n  Flux.flatten,\n  Dense(2048 => 512, relu),             \u001b[90m# 1_049_088 parameters\u001b[39m\n  Dropout(0.5),\n  Dense(512 => 100),                    \u001b[90m# 51_300 parameters\u001b[39m\n) \u001b[90m        # Total: 16 trainable arrays, \u001b[39m1_103_572 parameters,\n\u001b[90m          # plus 4 non-trainable, 48 parameters, summarysize \u001b[39m4.212 MiB."
     },
     "metadata": {},
     "execution_count": 4
    }
   ],
   "cell_type": "code",
   "source": [
    "model_flat = flatten_model(model)"
   ],
   "metadata": {},
   "execution_count": 4
  },
  {
   "cell_type": "markdown",
   "source": [
    "This function is called by default when creating an LRP analyzer.\n",
    "Note that we pass the unflattened model to the analyzer, but `analyzer.model` is flattened:"
   ],
   "metadata": {}
  },
  {
   "outputs": [
    {
     "output_type": "execute_result",
     "data": {
      "text/plain": "Chain(\n  Conv((3, 3), 3 => 8, relu, pad=1),    \u001b[90m# 224 parameters\u001b[39m\n  Conv((3, 3), 8 => 8, relu, pad=1),    \u001b[90m# 584 parameters\u001b[39m\n  MaxPool((2, 2)),\n  Conv((3, 3), 8 => 16, pad=1),         \u001b[90m# 1_168 parameters\u001b[39m\n  BatchNorm(16, relu),                  \u001b[90m# 32 parameters\u001b[39m\u001b[90m, plus 32\u001b[39m\n  Conv((3, 3), 16 => 8, relu, pad=1),   \u001b[90m# 1_160 parameters\u001b[39m\n  BatchNorm(8, relu),                   \u001b[90m# 16 parameters\u001b[39m\u001b[90m, plus 16\u001b[39m\n  Flux.flatten,\n  Dense(2048 => 512, relu),             \u001b[90m# 1_049_088 parameters\u001b[39m\n  Dropout(0.5),\n  Dense(512 => 100),                    \u001b[90m# 51_300 parameters\u001b[39m\n) \u001b[90m        # Total: 16 trainable arrays, \u001b[39m1_103_572 parameters,\n\u001b[90m          # plus 4 non-trainable, 48 parameters, summarysize \u001b[39m4.212 MiB."
     },
     "metadata": {},
     "execution_count": 5
    }
   ],
   "cell_type": "code",
   "source": [
    "analyzer = LRP(model)\n",
    "analyzer.model"
   ],
   "metadata": {},
   "execution_count": 5
  },
  {
   "cell_type": "markdown",
   "source": [
    "If this flattening is not desired, it can be disabled\n",
    "by passing the keyword argument `flatten=false` to the `LRP` constructor."
   ],
   "metadata": {}
  },
  {
   "cell_type": "markdown",
   "source": [
    "## LRP rules\n",
    "By default, the `LRP` constructor will assign the `ZeroRule` to all layers."
   ],
   "metadata": {}
  },
  {
   "outputs": [
    {
     "output_type": "execute_result",
     "data": {
      "text/plain": "LRP(\n  Conv((3, 3), 3 => 8, relu, pad=1) \u001b[90m => \u001b[39m\u001b[33mZeroRule()\u001b[39m,\n  Conv((3, 3), 8 => 8, relu, pad=1) \u001b[90m => \u001b[39m\u001b[33mZeroRule()\u001b[39m,\n  MaxPool((2, 2))                   \u001b[90m => \u001b[39m\u001b[33mZeroRule()\u001b[39m,\n  Conv((3, 3), 8 => 16, pad=1)      \u001b[90m => \u001b[39m\u001b[33mZeroRule()\u001b[39m,\n  BatchNorm(16, relu)               \u001b[90m => \u001b[39m\u001b[33mZeroRule()\u001b[39m,\n  Conv((3, 3), 16 => 8, relu, pad=1)\u001b[90m => \u001b[39m\u001b[33mZeroRule()\u001b[39m,\n  BatchNorm(8, relu)                \u001b[90m => \u001b[39m\u001b[33mZeroRule()\u001b[39m,\n  Flux.flatten                      \u001b[90m => \u001b[39m\u001b[33mZeroRule()\u001b[39m,\n  Dense(2048 => 512, relu)          \u001b[90m => \u001b[39m\u001b[33mZeroRule()\u001b[39m,\n  Dropout(0.5)                      \u001b[90m => \u001b[39m\u001b[33mZeroRule()\u001b[39m,\n  Dense(512 => 100)                 \u001b[90m => \u001b[39m\u001b[33mZeroRule()\u001b[39m,\n)"
     },
     "metadata": {},
     "execution_count": 6
    }
   ],
   "cell_type": "code",
   "source": [
    "LRP(model)"
   ],
   "metadata": {},
   "execution_count": 6
  },
  {
   "cell_type": "markdown",
   "source": [
    "This analyzer will return heatmaps that look identical to the `InputTimesGradient` analyzer\n",
    "from [ExplainableAI.jl](https://github.com/Julia-XAI/ExplainableAI.jl)."
   ],
   "metadata": {}
  },
  {
   "cell_type": "markdown",
   "source": [
    "LRP's strength lies in assigning different rules to different layers,\n",
    "based on their functionality in the neural network[^1].\n",
    "RelevancePropagation.jl implements many LRP rules out of the box,\n",
    "but it is also possible to *implement custom rules*.\n",
    "\n",
    "To assign different rules to different layers,\n",
    "use one of the composites presets,\n",
    "or create your own composite, as described in\n",
    "*Assigning rules to layers*."
   ],
   "metadata": {}
  },
  {
   "outputs": [
    {
     "output_type": "execute_result",
     "data": {
      "text/plain": "Composite(\n  GlobalTypeMap(  \u001b[90m# all layers\u001b[39m\n\u001b[94m    Flux.Conv              \u001b[39m => \u001b[33mZPlusRule()\u001b[39m,\n\u001b[94m    Flux.ConvTranspose     \u001b[39m => \u001b[33mZPlusRule()\u001b[39m,\n\u001b[94m    Flux.CrossCor          \u001b[39m => \u001b[33mZPlusRule()\u001b[39m,\n\u001b[94m    Flux.Dense             \u001b[39m => \u001b[33mEpsilonRule{Float32}(1.0f-6)\u001b[39m,\n\u001b[94m    typeof(NNlib.dropout)  \u001b[39m => \u001b[33mPassRule()\u001b[39m,\n\u001b[94m    Flux.AlphaDropout      \u001b[39m => \u001b[33mPassRule()\u001b[39m,\n\u001b[94m    Flux.Dropout           \u001b[39m => \u001b[33mPassRule()\u001b[39m,\n\u001b[94m    Flux.BatchNorm         \u001b[39m => \u001b[33mPassRule()\u001b[39m,\n\u001b[94m    typeof(Flux.flatten)   \u001b[39m => \u001b[33mPassRule()\u001b[39m,\n\u001b[94m    typeof(MLUtils.flatten)\u001b[39m => \u001b[33mPassRule()\u001b[39m,\n\u001b[94m    typeof(identity)       \u001b[39m => \u001b[33mPassRule()\u001b[39m,\n ),\n  FirstLayerTypeMap(  \u001b[90m# first layer\u001b[39m\n\u001b[94m    Flux.Conv         \u001b[39m => \u001b[33mFlatRule()\u001b[39m,\n\u001b[94m    Flux.ConvTranspose\u001b[39m => \u001b[33mFlatRule()\u001b[39m,\n\u001b[94m    Flux.CrossCor     \u001b[39m => \u001b[33mFlatRule()\u001b[39m,\n ),\n)"
     },
     "metadata": {},
     "execution_count": 7
    }
   ],
   "cell_type": "code",
   "source": [
    "composite = EpsilonPlusFlat() # using composite preset EpsilonPlusFlat"
   ],
   "metadata": {},
   "execution_count": 7
  },
  {
   "outputs": [
    {
     "output_type": "execute_result",
     "data": {
      "text/plain": "LRP(\n  Conv((3, 3), 3 => 8, relu, pad=1) \u001b[90m => \u001b[39m\u001b[33mFlatRule()\u001b[39m,\n  Conv((3, 3), 8 => 8, relu, pad=1) \u001b[90m => \u001b[39m\u001b[33mZPlusRule()\u001b[39m,\n  MaxPool((2, 2))                   \u001b[90m => \u001b[39m\u001b[33mZeroRule()\u001b[39m,\n  Conv((3, 3), 8 => 16, pad=1)      \u001b[90m => \u001b[39m\u001b[33mZPlusRule()\u001b[39m,\n  BatchNorm(16, relu)               \u001b[90m => \u001b[39m\u001b[33mPassRule()\u001b[39m,\n  Conv((3, 3), 16 => 8, relu, pad=1)\u001b[90m => \u001b[39m\u001b[33mZPlusRule()\u001b[39m,\n  BatchNorm(8, relu)                \u001b[90m => \u001b[39m\u001b[33mPassRule()\u001b[39m,\n  Flux.flatten                      \u001b[90m => \u001b[39m\u001b[33mPassRule()\u001b[39m,\n  Dense(2048 => 512, relu)          \u001b[90m => \u001b[39m\u001b[33mEpsilonRule{Float32}(1.0f-6)\u001b[39m,\n  Dropout(0.5)                      \u001b[90m => \u001b[39m\u001b[33mPassRule()\u001b[39m,\n  Dense(512 => 100)                 \u001b[90m => \u001b[39m\u001b[33mEpsilonRule{Float32}(1.0f-6)\u001b[39m,\n)"
     },
     "metadata": {},
     "execution_count": 8
    }
   ],
   "cell_type": "code",
   "source": [
    "LRP(model, composite)"
   ],
   "metadata": {},
   "execution_count": 8
  },
  {
   "cell_type": "markdown",
   "source": [
    "## Computing layerwise relevances\n",
    "If you are interested in computing layerwise relevances,\n",
    "call `analyze` with an LRP analyzer and the keyword argument\n",
    "`layerwise_relevances=true`.\n",
    "\n",
    "The layerwise relevances can be accessed in the `extras` field\n",
    "of the returned `Explanation`:"
   ],
   "metadata": {}
  },
  {
   "outputs": [
    {
     "output_type": "execute_result",
     "data": {
      "text/plain": "(Float32[-1.3243921 8.74806 … 2.8880134 -1.1207205; 0.45582312 1.2697315 … -2.5142088 0.29030505; … ; 1.6582028 10.617342 … -1.9481914 -0.29652497; 1.0133505 2.7148626 … -0.6336324 -0.7926021;;; 2.0289943 -0.83887166 … 0.17195909 0.5172456; 2.6238258 -4.3241253 … -1.8676149 5.0231013; … ; 1.403176 3.2535462 … -2.1448593 -0.2184069; 1.7888104 -1.822815 … -2.7161741 2.4246175;;; -1.3276355 -4.0249233 … -0.17526749 -0.6048343; -0.37539476 3.2393668 … -0.55159587 3.74323; … ; -7.081163 -1.1179627 … 1.6861738 0.07048841; -0.215447 0.21218763 … -3.0160213 5.199525;;;;], Float32[-2.128875 -4.413198 … 1.0796653 -1.3906882; -0.0 -0.25499406 … -0.0 0.0; … ; 0.0 -0.0 … 0.0 4.310081; 0.68768483 -1.3531804 … -0.08816633 -1.0259305;;; 1.4914618 -0.2784944 … -0.08433416 0.0; -2.834426 -0.7316214 … 0.0 0.0; … ; -2.492968 -3.0856326 … 6.881095 -0.0; 0.0 0.0 … 0.0 0.51989573;;; 0.0 0.12901542 … 0.0 2.8268218; -0.0 0.0 … 1.2645891 2.2773566; … ; -0.0 4.127004 … 0.9125523 0.13013807; 0.32082933 0.088390075 … -0.55427486 0.8305122;;; 0.0 0.0 … 0.0 -0.0; -2.1814659 0.054241385 … 0.58406234 -0.0; … ; -2.3941972 0.0 … 0.0 -0.0; 0.0 0.0 … -0.11095644 0.0;;; 0.0 -0.0 … -0.0 0.0; -0.0 0.0 … -0.0 0.0; … ; -0.0 -0.0 … 0.0 0.0; 0.0 0.0 … 0.0 0.0;;; -0.13733187 0.0 … -0.0 0.0; -1.2541488 -4.280255 … -0.0 -0.0; … ; 0.23152189 -0.48092404 … -0.0 0.0; -0.0 -0.0 … -0.0 -0.0;;; -0.09315259 0.05021399 … -0.0 -0.20205097; 0.0 -0.0 … 0.0 0.0; … ; 0.0 -0.0 … 0.0 -0.0; -0.0 0.0 … 0.0 -0.7646766;;; -0.0 0.0 … 0.43143073 0.009325858; 0.11629545 -0.0 … 0.8222626 1.2318801; … ; 0.0 -0.0 … 3.1882913 0.224409; 0.0 1.7593372 … 0.0 -0.08175355;;;;], Float32[0.0 0.0 … 0.0 2.5970602; 0.0 0.0 … 0.0 0.0; … ; 0.0 2.1735547 … 0.0 2.193899; 0.0 0.0 … 0.0 0.0;;; 0.0 0.0 … 0.0 0.0; 0.0 0.0 … 0.0 0.0; … ; -0.26417127 0.0 … 0.0 0.0; 0.0 0.0 … 0.36031437 0.0;;; 1.0900408 0.0 … -1.0794142 0.0; 0.0 0.0 … 0.0 0.0; … ; 0.0 0.0 … 0.0 0.4510081; 0.0 0.0 … 0.0 0.0;;; 0.0 0.0 … 0.0 0.6450432; 0.0 0.0 … 0.0 0.0; … ; 0.0 0.0 … 1.7268479 0.0; -3.4052696 0.0 … 0.0 0.0;;; -12.866441 0.0 … 0.0 0.0; 0.0 0.0 … 2.3231595 0.0; … ; 0.0 -4.664413 … 0.0 2.561851; 0.0 0.0 … 0.0 0.0;;; 0.0 0.0 … 0.0 0.0; 0.0 0.0 … 0.0 -0.31599328; … ; 0.0 0.0 … 0.0 0.0; -0.29636568 0.0 … -0.558039 0.0;;; 0.0 0.0 … 0.0 0.0; 0.5257527 0.0 … 0.0 1.6336392; … ; 0.0 0.0 … 0.0 1.1778954; 0.0 0.0 … 0.0 0.0;;; 0.0 0.0 … 0.0 0.0; 0.0 1.8660142 … 0.0 8.027619; … ; 0.0 0.0 … 2.377967 0.0; 4.6882615 0.0 … 0.0 0.0;;;;], Float32[-0.0 -0.3531253 … -0.067517444 2.5970602; -0.586103 0.46687102 … 1.2792054 1.9244361; … ; 0.3061556 2.2148342 … -3.2501867 0.94627976; 2.1735547 2.3863587 … -0.17005655 2.193899;;; -0.0 0.0 … 0.0 0.0; -0.06368502 2.8265276 … 0.0 1.0322123; … ; 4.1223836 0.15006426 … 1.2992928 -0.4776441; -0.2641713 -0.40403658 … -0.8200706 0.36031437;;; 1.0900408 2.0494535 … 0.0 -1.0794142; 2.4188263 0.0 … 2.355248 0.44946557; … ; 2.879576 -0.7851159 … 5.182549 0.0; 0.0 2.7217367 … 0.48280415 0.4510081;;; -0.0 1.801493 … 2.1393855 0.6450432; -0.71731156 -1.4448614 … -0.092195675 -0.6380861; … ; 0.72866756 -0.2865098 … 1.9367568 -1.9528601; -3.4052696 -3.5719368 … 0.6162146 1.7268479;;; -12.866441 -4.80333 … -5.0866356 2.3231595; -5.481421 -1.3650106 … -2.0853267 2.301103; … ; -12.2566185 0.7427646 … 6.995436 -9.948392; -4.664413 -2.1250627 … -4.2598705 2.561851;;; -0.0 -6.81346 … -4.667156 -0.31599328; -4.517197 -0.0 … -0.89499676 -1.0676142; … ; -2.303482 -11.295334 … -7.1269603 0.9070052; -0.29636568 -0.9440274 … 5.001673 -0.558039;;; 0.5257528 0.0 … 0.0 1.6336392; 0.54740274 0.0 … 0.0 -0.07387676; … ; 0.0 0.0 … 1.0925924 -2.5880551; -0.0 -1.4091064 … 0.0 1.1778954;;; 1.8660142 18.148485 … 17.512657 8.027619; 5.6565437 19.998753 … 24.468006 14.907386; … ; 5.606738 56.595158 … 9.460399 5.234897; 4.6882615 14.5767565 … 15.26697 2.377967;;;;], Float32[-0.0012219931 0.0071144775 … -0.003820614 -0.0016980474; -0.00063136965 0.006857088 … -0.0029345562 -0.005649975; … ; -0.026256803 -0.0020704411 … -0.0012103355 -0.00057350914; 0.019879173 0.009534829 … 0.0063662534 -0.002721845;;; -0.00066400494 -0.023933923 … 0.0044250335 0.032906298; -0.0031291333 0.0043905713 … -0.04969892 0.004636507; … ; -0.0024352428 -0.0037280088 … -0.007347134 0.005104994; 0.0018110952 0.03237174 … 0.0282441 -1.8621236f-5;;; -4.6181507f-5 -0.0008220104 … -5.1618248f-5 0.004178545; -0.00013446785 0.00014102708 … -3.0097285f-6 -0.00010017594; … ; -0.00012225697 -0.00010744584 … -4.6561967f-5 -0.0003618775; -0.000118237476 6.2185376f-5 … 7.3243435f-5 -0.00012871876;;; … ;;; -0.0034699508 0.0005276046 … 0.00048619174 -0.0017506072; -0.0043453025 -0.002822304 … -0.00020271045 0.00063508627; … ; 0.0005966287 0.0009978141 … 4.7635243f-5 6.5882145f-5; -0.00021826703 -0.011133042 … 0.015094818 0.00043023552;;; -0.008842558 -0.00017308962 … 0.00020838092 0.001153315; -0.002199042 0.0013434712 … -0.0024740577 0.0008493503; … ; 0.0008880805 0.0018617429 … 0.002068358 0.002064529; 0.0013799954 0.0017880677 … 0.00020771779 -0.000120303135;;; -0.09699013 0.048322067 … 0.035132874 0.064930364; 0.057816595 0.15915258 … 0.30394188 0.10672406; … ; 0.065833904 -0.093907095 … 0.22542252 -0.061164; 0.085564576 0.053948637 … 0.16650699 0.04999875;;;;], Float32[0.0 0.0011236091 … -0.0 0.0; -0.011655807 0.0022321867 … -0.0 0.0; … ; -0.028918225 -0.0013519091 … 0.0 0.0; 0.010998251 0.00017162965 … -0.0019431011 0.0;;; -0.0 -0.017356781 … -0.0039670174 -0.0018946846; -0.0 -0.010139668 … -0.021134598 0.001496938; … ; -0.0 -0.0 … -0.01854625 -0.010297328; -0.006925052 0.00038226004 … -0.008822533 -0.0;;; 0.0 -0.003310203 … -0.0 0.0095313005; -0.0 0.0 … 0.0 0.0; … ; 0.0 0.0 … 0.0 -0.0028966672; 0.0 0.0 … -0.0 -0.0;;; … ;;; -0.0 -0.0 … 0.0 0.0; -0.0020517292 -0.0 … -0.0 -0.0; … ; 0.0 0.0045900843 … -0.0 -0.0; -0.00013105506 -0.0088497065 … 0.048736945 0.0;;; -0.0018639588 0.00388275 … 0.0 0.0; 0.018265698 0.0 … -0.0 -0.0; … ; 0.006484986 0.0 … -0.0 -0.0; 0.0 0.0 … 0.0 -8.199129f-5;;; -0.0 -0.0040927953 … 0.0025274896 -0.0029906523; -0.01720373 -0.023384003 … 0.02848136 0.0074905604; … ; -0.018608466 -0.15589191 … 0.00506746 -0.0; -0.012013627 -0.016746668 … -0.045556605 0.0021659166;;;;], Float32[0.044278216 0.02022189 … 0.009871891 0.0; 0.070644826 0.032182626 … 0.0 0.0; … ; 0.04660564 0.03495504 … 0.0 0.0; 0.039172824 0.034597978 … 0.016523134 0.0;;; 0.0053586983 0.0 … 0.0 0.0; -0.006368334 0.0 … 0.0 0.0; … ; 0.0 0.0 … 0.0 0.004000718; 0.0 0.0 … 0.0 0.008953284;;; -0.0019381293 -0.0 … -0.0 -0.0; 0.0025562828 -0.0 … -0.0 -0.0; … ; -0.0051166723 -0.0 … -0.0 -0.0; 0.0007080404 -0.0 … -0.0 -0.0;;; -0.0 -0.0 … -0.002058883 -0.027951345; -0.0 -0.00033619624 … -0.00033309328 -0.007603747; … ; -0.0005635745 -0.0 … -0.015787072 0.04528278; -0.0002538413 0.008454695 … -0.0023756824 -0.07463773;;; -0.013130678 -0.14773744 … 0.05482324 -0.014337233; -0.0 -0.0255751 … -0.033388253 -0.02646082; … ; -0.0038795378 -0.00905515 … -0.029557148 -0.029408699; -0.010624856 -0.0014249099 … -0.029436514 -0.033502128;;; 0.0 0.0 … 0.003982758 0.01655464; 0.0 0.0 … -0.013415235 0.016648656; … ; 0.0 0.0 … 0.0022633793 0.00057091744; 0.0 0.006250472 … -0.009383204 0.0076253247;;; 0.004477106 -0.01392012 … 0.010367649 0.009547446; 0.0 0.012692653 … 0.00902582 0.10333407; … ; 0.0 0.055546485 … 0.052985802 0.12247758; 0.0 0.0 … 0.0069859596 0.012963274;;; 0.0 0.0 … 0.0 0.0; 0.0 0.0 … 0.0 3.6690296f-6; … ; 0.0 0.0 … 0.0 -0.0017552858; -0.00045880253 -0.027718972 … 0.0036863228 0.0007623917;;;;], Float32[-0.0014661317 0.0007267294 … 0.0028110659 0.0; 0.0022363416 0.0021214294 … -0.0 0.0; … ; -0.005018774 -0.00065800553 … -0.0 0.0; -0.0028057557 -0.022609955 … 0.0009820111 0.0;;; 0.00046116012 -0.0 … -0.0 0.0; -0.008930485 0.0 … -0.0 0.0; … ; -0.0 -0.0 … 0.0 -0.00041403453; -0.0 0.0 … -0.0 0.00486139;;; -0.0016235333 -0.0 … -0.0 0.0; 0.0024846338 -0.0 … 0.0 0.0; … ; -0.003804475 0.0 … -0.0 -0.0; 0.0006625775 0.0 … 0.0 0.0;;; -0.0 -0.0 … -0.0053610187 -0.0075950483; 0.0 -0.0012050412 … 0.000791583 -0.00090299203; … ; 5.8345406f-5 0.0 … -0.0043595773 0.03282247; -0.00050855015 0.0048571196 … -0.0046471455 -0.007919392;;; 0.005393179 -0.021099003 … 0.018648297 -0.0020175304; 0.0 -0.00014906446 … -0.014233956 -0.0047686524; … ; -0.0006930752 0.0117849605 … 0.007955782 -0.018154595; 0.01158101 -6.564062f-5 … -0.0073052426 -0.0028814834;;; 0.0 -0.0 … 0.0017046104 0.011522917; 0.0 0.0 … -0.008438015 0.011462369; … ; 0.0 -0.0 … 0.0004559727 -0.0017599576; 0.0 0.00054862123 … -0.006491118 0.0041374615;;; 0.00015627088 -0.007976655 … 0.0038992504 -0.0050575957; 0.0 -0.007103554 … -0.01294238 0.031424645; … ; 0.0 0.009796652 … 0.00875608 0.038587328; 0.0 0.0 … -0.00086261414 0.009009645;;; 0.0 -0.0 … -0.0 -0.0; 0.0 -0.0 … -0.0 -0.001804199; … ; -0.0 -0.0 … -0.0 -0.0008274432; -0.00021685725 -0.022608915 … 0.0051651197 0.0010724142;;;;], Float32[-0.0014661317; 0.0022363416; … ; -0.0008274432; 0.0010724142;;], Float32[0.0; 0.0; … ; 0.002978632; 0.02170728;;], Float32[0.0; 0.0; … ; 0.002978632; 0.02170728;;], Float32[0.0; 0.0; … ; 0.0; 0.0;;])"
     },
     "metadata": {},
     "execution_count": 9
    }
   ],
   "cell_type": "code",
   "source": [
    "input = rand(Float32, 32, 32, 3, 1) # dummy input for our convolutional neural network\n",
    "\n",
    "expl = analyze(input, analyzer; layerwise_relevances=true)\n",
    "expl.extras.layerwise_relevances"
   ],
   "metadata": {},
   "execution_count": 9
  },
  {
   "cell_type": "markdown",
   "source": [
    "Note that the layerwise relevances are only kept for layers in the outermost `Chain` of the model.\n",
    "When using our unflattened model, we only obtain three layerwise relevances,\n",
    "one for each chain in the model and the output relevance:"
   ],
   "metadata": {}
  },
  {
   "outputs": [
    {
     "output_type": "execute_result",
     "data": {
      "text/plain": "(Float32[-0.06669502 -0.4572314 … -0.068132564 0.019794917; -0.02946696 -0.08770134 … 0.0119196465 0.047512513; … ; 1.4059473 3.2203827 … -16.343994 2.72469; -0.2982892 -0.34363398 … -19.85114 18.02567;;; -0.7724999 -0.44059408 … 0.018334314 0.030536616; -0.17616431 0.35781795 … -0.034816585 -0.068525895; … ; 0.29185158 -5.1027412 … 4.185837 -1.0520825; 0.8141925 -1.1828058 … -0.0393799 10.90266;;; 0.02395865 1.1562291 … 0.0010136584 -0.06801985; -0.5289601 -0.25900972 … 0.124358915 -0.004795539; … ; 0.08604528 -0.9689742 … 16.290344 -6.422851; 0.012542506 -0.059912365 … -14.378358 -19.239777;;;;], Float32[-0.0013751079 0.001177785 … 0.00046929833 0.0; -0.004867432 0.00030990306 … -0.0 0.0; … ; -0.004230966 -0.0007762051 … 0.0 0.0; -0.00487678 -0.015785785 … 0.0012445684 0.0;;; 0.0013436094 -0.0 … -0.0 0.0; -0.011231522 0.0 … -0.0 -0.0; … ; -0.0 -0.0 … -0.0 -0.0016579343; 0.0 0.0 … -0.0 0.0046614176;;; -0.0005816056 -0.0 … -0.0 -0.0; 0.00453179 -0.0 … 0.0010710389 -0.0; … ; -0.003493047 0.0 … -0.0 -0.0; -0.00060542277 0.0 … 0.0 0.0;;; -0.0 -0.0 … -0.005520871 -0.009907165; 0.0 -0.0013688995 … 0.0 0.0023709638; … ; 5.2909538f-5 0.0 … -0.0049316026 0.03160474; -0.0 0.008979338 … -0.0026202803 -0.00427874;;; 0.005235345 -0.023133831 … 0.014102279 -0.0014292296; 0.0 -0.0017456834 … -0.016322216 -0.004567137; … ; -0.00026409607 0.013366159 … 0.0031163958 -0.015621844; 0.009632502 0.0 … -0.008403362 -0.0048629697;;; 0.0 -0.0 … 0.0016443088 0.010519072; 0.0 0.0 … -0.007063322 0.01148169; … ; 0.0 -0.0 … -0.00021145811 -0.0050694444; 0.0 0.00074929517 … -0.0074534635 0.0036914547;;; 0.00058897724 -0.009980836 … 0.0023651046 -0.004591571; 0.0 -0.004524353 … -0.0060119224 0.032786798; … ; 0.0 0.008508485 … 0.0064423666 0.037257683; 0.0 0.0 … 0.00069276633 0.009922575;;; 0.0 -0.0 … -0.0 -0.0; 0.0 -0.0 … -0.0 -0.00033150995; … ; -0.0 -0.0 … -0.0 -0.00078389264; 0.00032844488 -0.025784396 … 0.0111697065 -0.00065790047;;;;], Float32[0.0; 0.0; … ; 0.0; 0.0;;])"
     },
     "metadata": {},
     "execution_count": 10
    }
   ],
   "cell_type": "code",
   "source": [
    "analyzer = LRP(model; flatten=false) # use unflattened model\n",
    "\n",
    "expl = analyze(input, analyzer; layerwise_relevances=true)\n",
    "expl.extras.layerwise_relevances"
   ],
   "metadata": {},
   "execution_count": 10
  },
  {
   "cell_type": "markdown",
   "source": [
    "## Performance tips\n",
    "### Using LRP with a GPU\n",
    "All LRP analyzers support GPU backends,\n",
    "building on top of [Flux.jl's GPU support](https://fluxml.ai/Flux.jl/stable/gpu/).\n",
    "Using a GPU only requires moving the input array and model weights to the GPU.\n",
    "\n",
    "For example, using [CUDA.jl](https://github.com/JuliaGPU/CUDA.jl):"
   ],
   "metadata": {}
  },
  {
   "cell_type": "markdown",
   "source": [
    "```julia\n",
    "using CUDA, cuDNN\n",
    "using Flux\n",
    "using ExplainableAI\n",
    "\n",
    "# move input array and model weights to GPU\n",
    "input = input |> gpu # or gpu(input)\n",
    "model = model |> gpu # or gpu(model)\n",
    "\n",
    "# analyzers don't require calling `gpu`\n",
    "analyzer = LRP(model)\n",
    "\n",
    "# explanations are computed on the GPU\n",
    "expl = analyze(input, analyzer)\n",
    "```"
   ],
   "metadata": {}
  },
  {
   "cell_type": "markdown",
   "source": [
    "Some operations, like saving, require moving explanations back to the CPU.\n",
    "This can be done using Flux's `cpu` function:"
   ],
   "metadata": {}
  },
  {
   "cell_type": "markdown",
   "source": [
    "```julia\n",
    "val = expl.val |> cpu # or cpu(expl.val)\n",
    "\n",
    "using BSON\n",
    "BSON.@save \"explanation.bson\" val\n",
    "```\n",
    "\n",
    "### Using LRP without a GPU\n",
    "Using Julia's package extension mechanism,\n",
    "RelevancePropagation.jl's LRP implementation can optionally make use of\n",
    "[Tullio.jl](https://github.com/mcabbott/Tullio.jl) and\n",
    "[LoopVectorization.jl](https://github.com/JuliaSIMD/LoopVectorization.jl)\n",
    "for faster LRP rules on dense layers.\n",
    "\n",
    "This only requires loading the packages before loading RelevancePropagation.jl:\n",
    "```julia\n",
    "using LoopVectorization, Tullio\n",
    "using RelevancePropagation\n",
    "```\n",
    "\n",
    "[^1]: G. Montavon et al., [Layer-Wise Relevance Propagation: An Overview](https://link.springer.com/chapter/10.1007/978-3-030-28954-6_10)"
   ],
   "metadata": {}
  },
  {
   "cell_type": "markdown",
   "source": [
    "---\n",
    "\n",
    "*This notebook was generated using [Literate.jl](https://github.com/fredrikekre/Literate.jl).*"
   ],
   "metadata": {}
  }
 ],
 "nbformat_minor": 3,
 "metadata": {
  "language_info": {
   "file_extension": ".jl",
   "mimetype": "application/julia",
   "name": "julia",
   "version": "1.10.0"
  },
  "kernelspec": {
   "name": "julia-1.10",
   "display_name": "Julia 1.10.0",
   "language": "julia"
  }
 },
 "nbformat": 4
}
